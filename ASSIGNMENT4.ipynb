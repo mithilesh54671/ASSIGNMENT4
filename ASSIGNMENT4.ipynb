{
 "cells": [
  {
   "cell_type": "markdown",
   "id": "ffbd8ec0-b0e4-4b7d-b554-f2bb55fc119b",
   "metadata": {},
   "source": [
    "Q1. Create a python program to sort the given list of tuples based on integer value using a\n",
    "lambda function.\n",
    "[('Sachin Tendulkar', 34357), ('Ricky Ponting', 27483), ('Jack Kallis', 25534), ('Virat Kohli', 24936)]"
   ]
  },
  {
   "cell_type": "code",
   "execution_count": null,
   "id": "90d2976b-1e58-47e0-a49c-a908dee5d66a",
   "metadata": {},
   "outputs": [],
   "source": [
    "score = [('sachin tendulkar', 34357),('ricky ponting', 27483), ('jack kallis', 25534), ('virat kohli', 24936)]"
   ]
  },
  {
   "cell_type": "code",
   "execution_count": 2,
   "id": "11d87bc4-6639-49ad-8fbe-c9d8799f7cf7",
   "metadata": {},
   "outputs": [
    {
     "data": {
      "text/plain": [
       "<function __main__.<lambda>(n, p)>"
      ]
     },
     "execution_count": 2,
     "metadata": {},
     "output_type": "execute_result"
    }
   ],
   "source": [
    "lambda n, p :n**p"
   ]
  },
  {
   "cell_type": "markdown",
   "id": "d0067cc0-ad2b-42ca-83b2-bc9e8a00c91a",
   "metadata": {},
   "source": [
    "Q2. Write a Python Program to find the squares of all the numbers in the given list of integers using\n",
    "lambda and map functions. [1, 2, 3, 4, 5, 6, 7, 8, 9, 10]"
   ]
  },
  {
   "cell_type": "code",
   "execution_count": 3,
   "id": "95ce8921-1afb-4694-b092-374f06d98c69",
   "metadata": {},
   "outputs": [],
   "source": [
    "l = [1,2,3,4,5,6,7,8,9,10]"
   ]
  },
  {
   "cell_type": "code",
   "execution_count": 9,
   "id": "52738f3f-fdec-43c0-80a6-3a7952048ff9",
   "metadata": {},
   "outputs": [],
   "source": [
    "def test(l):\n",
    "    l1 = []\n",
    "    for i in l:\n",
    "        l1.append(i**2)\n",
    "        return l1"
   ]
  },
  {
   "cell_type": "code",
   "execution_count": 10,
   "id": "6fa16e68-143c-40ff-b5b6-48c5bbe941ac",
   "metadata": {},
   "outputs": [
    {
     "data": {
      "text/plain": [
       "[1]"
      ]
     },
     "execution_count": 10,
     "metadata": {},
     "output_type": "execute_result"
    }
   ],
   "source": [
    "test(l)"
   ]
  },
  {
   "cell_type": "code",
   "execution_count": 11,
   "id": "03ee79cd-35ec-4af8-98e0-43f3cb902b29",
   "metadata": {},
   "outputs": [],
   "source": [
    "def sq(x):\n",
    "    return x**2"
   ]
  },
  {
   "cell_type": "code",
   "execution_count": 12,
   "id": "3ac15143-05ac-478f-9946-860f950aa9e5",
   "metadata": {},
   "outputs": [
    {
     "data": {
      "text/plain": [
       "[1, 4, 9, 16, 25, 36, 49, 64, 81, 100]"
      ]
     },
     "execution_count": 12,
     "metadata": {},
     "output_type": "execute_result"
    }
   ],
   "source": [
    "list (map(sq , l))"
   ]
  },
  {
   "cell_type": "code",
   "execution_count": 13,
   "id": "bc0e37fe-13f6-4b3c-b1ba-47b1a6d094ba",
   "metadata": {},
   "outputs": [
    {
     "data": {
      "text/plain": [
       "[1, 4, 9, 16, 25, 36, 49, 64, 81, 100]"
      ]
     },
     "execution_count": 13,
     "metadata": {},
     "output_type": "execute_result"
    }
   ],
   "source": [
    "list(map(lambda x : x**2 , l))"
   ]
  },
  {
   "cell_type": "markdown",
   "id": "9f8ed149-96eb-40c9-adbc-b323e8cc5141",
   "metadata": {},
   "source": [
    "Q3. Write a python program to convert the given list of integers into a tuple of strings. Use map and\n",
    "lambda functions\n",
    "Given String: [1, 2, 3, 4, 5, 6, 7, 8, 9, 10]\n",
    "Expected output: ('1', '2', '3', '4', '5', '6', '7', '8', '9', '10')"
   ]
  },
  {
   "cell_type": "code",
   "execution_count": 15,
   "id": "02561b0c-22cc-4fcb-b0eb-c2346fec7bbb",
   "metadata": {},
   "outputs": [
    {
     "data": {
      "text/plain": [
       "['1', '2', '3', '4', '5', '6', '7', '8', '9', '10']"
      ]
     },
     "execution_count": 15,
     "metadata": {},
     "output_type": "execute_result"
    }
   ],
   "source": [
    "s = ['1','2','3','4','5','6','7','8','9','10']\n",
    "list(map(lambda s : s.upper() ,s))"
   ]
  },
  {
   "cell_type": "markdown",
   "id": "99d315f0-7cf4-4ab5-8fd3-8c2faae78dc9",
   "metadata": {},
   "source": [
    "Q4. Write a python program using reduce function to compute the product of a list containing numbers\n",
    "from 1 to 25."
   ]
  },
  {
   "cell_type": "code",
   "execution_count": 18,
   "id": "b086eb01-d150-4542-89d7-d4a16e42c45a",
   "metadata": {},
   "outputs": [],
   "source": [
    "nums = [1,2,3,4,5,6,4]"
   ]
  },
  {
   "cell_type": "code",
   "execution_count": 19,
   "id": "65c59539-5af0-451a-83fc-76e6f4906063",
   "metadata": {},
   "outputs": [
    {
     "ename": "SyntaxError",
     "evalue": "incomplete input (3380245840.py, line 1)",
     "output_type": "error",
     "traceback": [
      "\u001b[0;36m  Cell \u001b[0;32mIn[19], line 1\u001b[0;36m\u001b[0m\n\u001b[0;31m    list(filter(lambda x, y : x if x>y else y , nums)\u001b[0m\n\u001b[0m                                                     ^\u001b[0m\n\u001b[0;31mSyntaxError\u001b[0m\u001b[0;31m:\u001b[0m incomplete input\n"
     ]
    }
   ],
   "source": [
    "list(filter(lambda x, y : x if x>y else y , nums)"
   ]
  },
  {
   "cell_type": "markdown",
   "id": "70f25c1f-1405-443e-b785-30e9ecc57c91",
   "metadata": {},
   "source": [
    "Q5. Write a python program to filter the numbers in a given list that are divisible by 2 and 3 using the\n",
    "filter function.\n",
    "[2, 3, 6, 9, 27, 60, 90, 120, 55, 46]"
   ]
  },
  {
   "cell_type": "code",
   "execution_count": 22,
   "id": "65aca547-e4de-4f54-8566-3f63decea624",
   "metadata": {},
   "outputs": [],
   "source": [
    "a = [2,3,6,9,27,60,90,120,55,46]"
   ]
  },
  {
   "cell_type": "code",
   "execution_count": 23,
   "id": "7cb846b2-5112-4b5e-90ac-da61a8aa54a5",
   "metadata": {},
   "outputs": [
    {
     "data": {
      "text/plain": [
       "[2, 3, 6, 9, 27, 60, 90, 120, 55, 46]"
      ]
     },
     "execution_count": 23,
     "metadata": {},
     "output_type": "execute_result"
    }
   ],
   "source": [
    "a"
   ]
  },
  {
   "cell_type": "code",
   "execution_count": 24,
   "id": "d812a715-62a8-43dc-8a47-2520f53ac8bf",
   "metadata": {},
   "outputs": [
    {
     "data": {
      "text/plain": [
       "[3, 9, 27, 55]"
      ]
     },
     "execution_count": 24,
     "metadata": {},
     "output_type": "execute_result"
    }
   ],
   "source": [
    "list(filter(lambda x : x% 2 != 0, a))"
   ]
  },
  {
   "cell_type": "markdown",
   "id": "e36cc54d-959e-47ee-8514-e520eb60235e",
   "metadata": {},
   "source": [
    "Q6. Write a python program to find palindromes in the given list of strings using lambda and filter\n",
    "function.\n",
    "['python', 'php', 'aba', 'radar', 'level']"
   ]
  },
  {
   "cell_type": "code",
   "execution_count": 25,
   "id": "6085184b-df95-4c83-b1a6-d6f9bdbf8726",
   "metadata": {},
   "outputs": [],
   "source": [
    "l2 = [\"python\" , \"php\" , \"aba\" , \"radar\" , \"level\" ]"
   ]
  },
  {
   "cell_type": "code",
   "execution_count": 28,
   "id": "c1350483-bc08-454e-9474-72715c463886",
   "metadata": {},
   "outputs": [
    {
     "data": {
      "text/plain": [
       "['php', 'aba']"
      ]
     },
     "execution_count": 28,
     "metadata": {},
     "output_type": "execute_result"
    }
   ],
   "source": [
    "list(filter(lambda x: len(x)<4 , l2))"
   ]
  },
  {
   "cell_type": "code",
   "execution_count": null,
   "id": "b64f7db4-46f5-4a45-8908-46486383b48a",
   "metadata": {},
   "outputs": [],
   "source": [
    "list(filter(lambda x: len(x))"
   ]
  }
 ],
 "metadata": {
  "kernelspec": {
   "display_name": "Python 3 (ipykernel)",
   "language": "python",
   "name": "python3"
  },
  "language_info": {
   "codemirror_mode": {
    "name": "ipython",
    "version": 3
   },
   "file_extension": ".py",
   "mimetype": "text/x-python",
   "name": "python",
   "nbconvert_exporter": "python",
   "pygments_lexer": "ipython3",
   "version": "3.10.8"
  }
 },
 "nbformat": 4,
 "nbformat_minor": 5
}
